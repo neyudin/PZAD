{
 "cells": [
  {
   "cell_type": "code",
   "execution_count": 2,
   "metadata": {
    "ExecuteTime": {
     "end_time": "2018-10-22T20:43:11.802604Z",
     "start_time": "2018-10-22T20:43:11.774848Z"
    },
    "run_control": {
     "frozen": false,
     "read_only": false
    }
   },
   "outputs": [
    {
     "name": "stdout",
     "output_type": "stream",
     "text": [
      "Populating the interactive namespace from numpy and matplotlib\n"
     ]
    }
   ],
   "source": [
    "import numpy as np\n",
    "import pandas as pd\n",
    "import scipy\n",
    "import scipy.sparse\n",
    "import matplotlib.pyplot as plt\n",
    "%pylab inline\n",
    "figsize(12, 9)\n",
    "plt.rc('text', usetex=False)\n",
    "plt.rc('font', family='serif')\n",
    "plt.rc('font', weight='normal')\n",
    "plt.rc('font', size=16)\n",
    "plt.rc('xtick', labelsize=14) \n",
    "plt.rc('ytick', labelsize=14)\n",
    "plt.rc('axes', titlesize=14)\n",
    "plt.rc('axes', labelsize=14)\n",
    "plt.rc('legend', fontsize=14)\n",
    "plt.rc('figure', titlesize=16)\n",
    "import warnings\n",
    "warnings.filterwarnings(\"ignore\", category=DeprecationWarning)\n",
    "import os\n",
    "import sys\n",
    "import matplotlib as mpl\n",
    "from sklearn.datasets import load_svmlight_file\n",
    "from subprocess import call\n",
    "import gc\n",
    "import matplotlib.gridspec as gridspec\n",
    "import matplotlib.patches as mpatches\n",
    "from sklearn.base import BaseEstimator\n",
    "from sklearn.preprocessing import LabelEncoder, OneHotEncoder\n",
    "from sklearn.model_selection import train_test_split\n",
    "from sklearn.metrics import accuracy_score, roc_auc_score\n",
    "from sklearn.ensemble import BaggingClassifier"
   ]
  },
  {
   "cell_type": "markdown",
   "metadata": {},
   "source": [
    "# Критерий |TPR - FPR| Юдин Никита, 517 группа"
   ]
  },
  {
   "cell_type": "markdown",
   "metadata": {},
   "source": [
    "Как известно, при пострении решающих деревьев для решения задачи классификации используют обычно либо критерий Джини (gini), либо энтропийный (entropy). А выбор подходящего разбиения в решающем дереве происходит в результате максимизации следующей функции:\n",
    "$$Q(R) = -\\frac {|R_l|}{|R|}H(R_l) -\\frac {|R_r|}{|R|}H(R_r),$$\n",
    "$R$ - множество объектов, $R_l$ и $R_r$ - объекты, попавшие в левое и правое поддерево, $H(R)$ &mdash; критерий.\n",
    "Для критерия Джини $H(R) = 1 - p_{0}^{2} - p_{1}^{2}$, где $p_{0}, p_{1}$ &mdash; доля объектов 0 и 1 класса соответственно. Для энтропийного критерия $H(R) = -p_{0}\\log_{2}p_{0} - p_{1}\\log_{2}p_{1}$. Рассмотрим бинарную задачу классификации. Рассмотрим и сравним с упомянутыми выше критерий TPR-FPR, который заключается в том, что в каждом узле решается бинарная задача классификации с классификатором в виде пороговой функции, которая настраивается максимизацией AUC ROC на объектах, расположенных в рассматриваемом узле. Как было установлено на семинаре, максимизация AUC ROC эквивалентна максимизации следующей разности: $|TPR - FPR|$. В данной работе объекты, отправляющиеся в правый узел по критерию |TPR - FPR|, трактуются как объекты положительного класса. TPR &mdash; чувствительность, FPR &mdash; доля ложноположительных объектов.\n",
    "\n",
    "В ходе выполнения работы я установил, что безболезненно включить собственную функцию критерия разбиения в узле в библиотеке scikit-learn не получится, поэтому эксперименты были проведены с использованием модифицированного кода из лабораторной работы за третий курс. Ниже приведена функция, находящая оптимальное разбиение в зависимости от выбранного критерия:"
   ]
  },
  {
   "cell_type": "code",
   "execution_count": 2,
   "metadata": {
    "ExecuteTime": {
     "end_time": "2018-10-22T19:38:59.958205Z",
     "start_time": "2018-10-22T19:38:59.928543Z"
    },
    "run_control": {
     "frozen": false,
     "read_only": false
    }
   },
   "outputs": [],
   "source": [
    "def find_best_split(feature_vector, target_vector, criterion='gini'):\n",
    "    if len(feature_vector) != len(target_vector):\n",
    "        raise ValueError('arguments are not aligned')\n",
    "    if not criterion in ['gini', 'tpr_minus_fpr', 'entropy']:\n",
    "        raise ValueError('unknown criterion')\n",
    "    thresholds = np.unique(feature_vector)[1:]\n",
    "    if thresholds.size == 0:\n",
    "        return -np.inf, -np.inf, -np.inf, -np.inf\n",
    "    mask_map = feature_vector[np.newaxis, :] < thresholds[:, np.newaxis]\n",
    "    left_node_size = mask_map.sum(axis=1).astype(np.float)\n",
    "    right_node_size = target_vector.size - left_node_size\n",
    "    labels = np.unique(target_vector)\n",
    "    positive_class_pos = target_vector.copy()\n",
    "    positive_class_pos[target_vector == labels[0]] = 0\n",
    "    positive_class_pos[target_vector == labels[1]] = 1\n",
    "    positive_class_pos = positive_class_pos.astype(np.int)\n",
    "    positive_class_pos[positive_class_pos != 1] = 0\n",
    "    positive_left_count = (positive_class_pos[np.newaxis, :] * mask_map).sum(axis=1)\n",
    "    positive_right_count = (positive_class_pos[np.newaxis, :] * ~mask_map).sum(axis=1)\n",
    "    if criterion == 'gini':\n",
    "        ginis = 2.0 / float(target_vector.size) *\\\n",
    "                (positive_left_count * (positive_left_count / left_node_size - 1.0) +\\\n",
    "                positive_right_count * (positive_right_count / right_node_size - 1.0))\n",
    "        index = np.argmax(ginis)\n",
    "        return thresholds, ginis, thresholds[index], ginis[index]\n",
    "    elif criterion == 'tpr_minus_fpr':\n",
    "        tpr_minus_fpr = np.abs(positive_right_count / (positive_right_count + positive_left_count) -\\\n",
    "                        (right_node_size - positive_right_count) / (target_vector.size - positive_right_count -\\\n",
    "                        positive_left_count))\n",
    "        index = np.argmax(tpr_minus_fpr)\n",
    "        return thresholds, tpr_minus_fpr, thresholds[index], tpr_minus_fpr[index]\n",
    "    elif criterion == 'entropy':\n",
    "        entropy = (positive_right_count / target_vector.size) * np.log2(positive_right_count / right_node_size +\\\n",
    "                                                                        1e-6) +\\\n",
    "                  ((right_node_size - positive_right_count) / target_vector.size) *\\\n",
    "                  np.log2((right_node_size - positive_right_count) / right_node_size + 1e-6) +\\\n",
    "                  (positive_left_count / target_vector.size) * np.log2(positive_left_count / left_node_size +\\\n",
    "                                                                       1e-6) +\\\n",
    "                  ((left_node_size - positive_left_count) / target_vector.size) *\\\n",
    "                  np.log2((left_node_size - positive_left_count) / left_node_size + 1e-6)\n",
    "        index = np.argmax(entropy)\n",
    "        return thresholds, entropy, thresholds[index], entropy[index]\n",
    "    else:\n",
    "        return None, None, None, None"
   ]
  },
  {
   "cell_type": "markdown",
   "metadata": {},
   "source": [
    "Ниже представлены выборы порогов в корне решающего дерева для различных признаков из преобразованной выборки [User Knowledge](https://archive.ics.uci.edu/ml/datasets/User+Knowledge+Modeling). Для трёх признаков все критерии показали одинаковый результат, однако наблюдается различие по признакам STG, PEG."
   ]
  },
  {
   "cell_type": "code",
   "execution_count": 3,
   "metadata": {
    "ExecuteTime": {
     "end_time": "2018-10-22T19:39:01.105462Z",
     "start_time": "2018-10-22T19:39:00.138555Z"
    },
    "run_control": {
     "frozen": false,
     "read_only": false
    }
   },
   "outputs": [
    {
     "data": {
      "image/png": "[encoded data removed]",
      "text/plain": [
       "<Figure size 720x612 with 6 Axes>"
      ]
     },
     "metadata": {},
     "output_type": "display_data"
    }
   ],
   "source": [
    "students = pd.read_csv('students.csv')\n",
    "students_features_num = len(students.columns) - 1\n",
    "students_target = np.array(students[students.columns[students_features_num]])\n",
    "students_design = np.array(students[students.columns[:students_features_num]])\n",
    "fig = plt.figure(figsize=(10, 8.5))\n",
    "gs = gridspec.GridSpec(2, 3)\n",
    "gs.update(left=0.57, right=1.79, wspace=0.5, hspace=0.5)\n",
    "red_patch = mpatches.Patch(color='red', label='оптимальное значение критерия')\n",
    "blue_patch = mpatches.Patch(color='blue', label='gini критерий')\n",
    "green_patch = mpatches.Patch(color='green', label='tpr-fpr критерий')\n",
    "black_patch = mpatches.Patch(color='black', label='entropy критерий')\n",
    "ax = plt.subplot(gs[5])\n",
    "ax.legend(handles=[red_patch, green_patch, blue_patch, black_patch])\n",
    "ax.axis('off')\n",
    "splits_features = []\n",
    "for i in range(students_features_num):\n",
    "    split_info = find_best_split(students_design[:, i], students_target)\n",
    "    splits_features.append(split_info)\n",
    "    ax = plt.subplot(gs[i])\n",
    "    ax.plot(split_info[0], split_info[1], color='blue')\n",
    "    ax.scatter(split_info[2], split_info[3], s=80, marker='*', color='red')\n",
    "    split_info = find_best_split(students_design[:, i], students_target, criterion='tpr_minus_fpr')\n",
    "    splits_features.append(split_info)\n",
    "    ax.plot(split_info[0], split_info[1], color='green')\n",
    "    ax.scatter(split_info[2], split_info[3], s=80, marker='*', color='red')\n",
    "    split_info = find_best_split(students_design[:, i], students_target, criterion='entropy')\n",
    "    splits_features.append(split_info)\n",
    "    ax.plot(split_info[0], split_info[1], color='black')\n",
    "    ax.scatter(split_info[2], split_info[3], s=80, marker='*', color='red')\n",
    "    plt.xlim([-0.2, 1.2])\n",
    "    plt.ylim([-1.0, 1.0])\n",
    "    plt.title('признак: ' + students.columns[i], fontsize=20)\n",
    "    plt.xlabel('значение порога', fontsize=14)\n",
    "    plt.ylabel('значение критерия', fontsize=14)\n",
    "plt.show()"
   ]
  },
  {
   "cell_type": "code",
   "execution_count": 4,
   "metadata": {
    "ExecuteTime": {
     "end_time": "2018-10-22T19:39:01.898449Z",
     "start_time": "2018-10-22T19:39:01.107745Z"
    },
    "run_control": {
     "frozen": false,
     "read_only": false
    }
   },
   "outputs": [
    {
     "data": {
      "image/png": "[encoded data removed]",
      "text/plain": [
       "<Figure size 720x612 with 6 Axes>"
      ]
     },
     "metadata": {},
     "output_type": "display_data"
    }
   ],
   "source": [
    "fig = plt.figure(figsize=(10, 8.5))\n",
    "gs = gridspec.GridSpec(2, 3)\n",
    "gs.update(left=0.57, right=1.79, wspace=0.5, hspace=0.5)\n",
    "green_patch = mpatches.Patch(color='green', label='gini порог')\n",
    "red_patch = mpatches.Patch(color='red', label='tpr-fpr порог')\n",
    "black_patch = mpatches.Patch(color='black', label='entropy порог')\n",
    "ax = plt.subplot(gs[5])\n",
    "ax.legend(handles=[red_patch, green_patch, black_patch])\n",
    "ax.axis('off')\n",
    "for i in range(students_features_num):\n",
    "    ax = plt.subplot(gs[i])\n",
    "    ax.scatter(students_design[:, i], students_target, c=students_target, s=80)\n",
    "    ax.plot(np.zeros(8) + splits_features[3 * i][2], np.linspace(-0.2, 1.2, 8), color='green')\n",
    "    ax.plot(np.zeros(8) + splits_features[3 * i + 1][2], np.linspace(-0.2, 1.2, 8), color='red')\n",
    "    ax.plot(np.zeros(8) + splits_features[3 * i + 2][2], np.linspace(-0.2, 1.2, 8), color='black')\n",
    "    plt.title('признак: ' + students.columns[i], fontsize=20)\n",
    "    plt.xlim([-0.2, 1.2])\n",
    "    plt.ylim([-0.2, 1.2])\n",
    "    plt.yticks([0, 1])\n",
    "    plt.xlabel('значение признака', fontsize=14)\n",
    "    plt.ylabel('метка класса', fontsize=14)\n",
    "plt.show()"
   ]
  },
  {
   "cell_type": "markdown",
   "metadata": {},
   "source": [
    "Загрузим выборки для дальнейших экспериментов:"
   ]
  },
  {
   "cell_type": "code",
   "execution_count": 5,
   "metadata": {
    "ExecuteTime": {
     "end_time": "2018-10-22T19:39:01.906064Z",
     "start_time": "2018-10-22T19:39:01.900651Z"
    },
    "run_control": {
     "frozen": false,
     "read_only": false
    }
   },
   "outputs": [
    {
     "name": "stdout",
     "output_type": "stream",
     "text": [
      "CPU times: user 0 ns, sys: 0 ns, total: 0 ns\n",
      "Wall time: 6.91 µs\n"
     ]
    }
   ],
   "source": [
    "%%time\n",
    "call(\"wget -t inf https://www.csie.ntu.edu.tw/~cjlin/libsvmtools/datasets/binary/breast-cancer\".split())\n",
    "call(\"wget -t inf https://www.csie.ntu.edu.tw/~cjlin/libsvmtools/datasets/binary/madelon\".split())\n",
    "call(\"wget -t inf https://www.csie.ntu.edu.tw/~cjlin/libsvmtools/datasets/binary/madelon.t\".split())\n",
    "call(\"wget -t inf https://archive.ics.uci.edu/ml/machine-learning-databases/00267/data_banknote_authentication.txt\".split())\n",
    "call(\"wget -t inf https://raw.githubusercontent.com/jbrownlee/Datasets/master/pima-indians-diabetes.data.csv\".split())"
   ]
  },
  {
   "cell_type": "markdown",
   "metadata": {},
   "source": [
    "Создадим таблицу для записи результатов экспериментов:"
   ]
  },
  {
   "cell_type": "code",
   "execution_count": 6,
   "metadata": {
    "ExecuteTime": {
     "end_time": "2018-10-22T19:39:02.505065Z",
     "start_time": "2018-10-22T19:39:02.494261Z"
    }
   },
   "outputs": [],
   "source": [
    "results = pd.DataFrame(index=pd.Index(['mushroom', 'pima', 'breast cancer', 'madelon', 'banknote'], name='Task'),\n",
    "                       columns=pd.MultiIndex.from_tuples([('gini', 'accuracy'), ('gini', 'AUC ROC'),\n",
    "                                                        ('TPR-FPR', 'accuracy'), ('TPR-FPR', 'AUC ROC'),\n",
    "                                                        ('entropy', 'accuracy'), ('entropy', 'AUC ROC'),\n",
    "                                                        ('description', 'size'), ('description', 'features num'),\n",
    "                                                        ('description', 'positive class ratio')]))"
   ]
  },
  {
   "cell_type": "markdown",
   "metadata": {
    "ExecuteTime": {
     "end_time": "2018-10-22T20:14:50.530389Z",
     "start_time": "2018-10-22T20:14:50.525635Z"
    }
   },
   "source": [
    "Загрузим выборку **mushroom**:"
   ]
  },
  {
   "cell_type": "code",
   "execution_count": 7,
   "metadata": {
    "ExecuteTime": {
     "end_time": "2018-10-22T19:39:06.864322Z",
     "start_time": "2018-10-22T19:39:03.443191Z"
    },
    "run_control": {
     "frozen": false,
     "read_only": false
    }
   },
   "outputs": [],
   "source": [
    "filename_list = ['breast-cancer', 'madelon', 'madelon.t', 'data_banknote_authentication.txt', 'pima-indians-diabetes.data.csv']\n",
    "ohe = OneHotEncoder(sparse=False)\n",
    "mushrooms = pd.read_csv('https://archive.ics.uci.edu/ml/machine-learning-databases/mushroom/agaricus-lepiota.data',\n",
    "                        names=np.hstack((np.array(['mushroom type']), np.arange(1, 23).astype(np.string_))))\n",
    "results.loc['mushroom', ('description', 'size')] = mushrooms.shape[0]\n",
    "results.loc['mushroom', ('description', 'features num')] = mushrooms.shape[1] - 1\n",
    "mushrooms_target = np.array(mushrooms[mushrooms.columns[0]])\n",
    "mushrooms_design = np.array(mushrooms[mushrooms.columns[1:]])\n",
    "le = LabelEncoder()\n",
    "mushrooms_target = le.fit_transform(mushrooms_target)\n",
    "results.loc['mushroom', ('description', 'positive class ratio')] = mushrooms_target.mean()\n",
    "for i in range(mushrooms_design.shape[1]):\n",
    "    mushrooms_design[:, i] = le.fit_transform(mushrooms_design[:, i])\n",
    "ohe_mushrooms_design = ohe.fit_transform(mushrooms_design)\n",
    "mushrooms_X_train, mushrooms_X_test, mushrooms_y_train, mushrooms_y_test = train_test_split(mushrooms_design,\n",
    "                                                                                            mushrooms_target,\n",
    "                                                                                            test_size=0.5,\n",
    "                                                                                            random_state=42)"
   ]
  },
  {
   "cell_type": "markdown",
   "metadata": {},
   "source": [
    "Ниже представлен код, реализующий решающие деревья, совместимые с интерфейсом библиотеки scikit-learn. Осторожно, работает медленнее, чем реализация решающих деревьев в scikit-learn. Дерево строится до конца: до того момента, пока в узле не останутся представители одного класса, в реализацию встроена возможность работы с категориальными признаками, в конструктор класса необходимо передавать маску категориальных признаков."
   ]
  },
  {
   "cell_type": "code",
   "execution_count": 8,
   "metadata": {
    "ExecuteTime": {
     "end_time": "2018-10-22T19:39:08.586516Z",
     "start_time": "2018-10-22T19:39:08.377925Z"
    },
    "run_control": {
     "frozen": false,
     "read_only": false
    }
   },
   "outputs": [],
   "source": [
    "class DecisionTree(BaseEstimator):\n",
    "    def __init__(self, types, criterion='gini'):\n",
    "        self._tree = []\n",
    "        self.types = types\n",
    "        self.criterion = criterion\n",
    "\n",
    "    def fit(self, X, y):\n",
    "        def orderEncoder(cat_feature, target):\n",
    "            cats, counts = np.unique(cat_feature, return_counts=True)\n",
    "            labels = np.unique(target)\n",
    "            tmp_target = target.copy()\n",
    "            tmp_target[target == labels[0]] = 0\n",
    "            tmp_target[target == labels[1]] = 1\n",
    "            tmp_target = tmp_target.astype(np.int)\n",
    "            positive_counts = ((cat_feature[np.newaxis, :] == cats[:, np.newaxis]) &\\\n",
    "                               tmp_target[np.newaxis, :]).sum(axis=1)\n",
    "            frequentcies = positive_counts / counts\n",
    "            pairs = list(zip(frequentcies, cats))\n",
    "            pairs.sort(key=lambda x: x[0])\n",
    "            enc_feature = np.zeros(cat_feature.size)\n",
    "            for i in range(len(pairs)):\n",
    "                enc_feature[cat_feature == pairs[i][1]] = i\n",
    "            return enc_feature, pairs\n",
    "\n",
    "\n",
    "        def fit_node(subX, suby, node):\n",
    "            labels = np.unique(suby)\n",
    "            if labels.size == 1:\n",
    "                node.append(labels[0])\n",
    "                return\n",
    "            splits_info = []\n",
    "            for i in range(self.types.size):\n",
    "                if self.types[i]:\n",
    "                    enc_feature, enc_list = orderEncoder(subX[:, i], suby)\n",
    "                    _, _, threshold, gini = find_best_split(enc_feature, suby, self.criterion)\n",
    "                    splits_info.append((gini, threshold, enc_list, i))\n",
    "                else:\n",
    "                    _, _, threshold, gini = find_best_split(subX[:, i], suby, self.criterion)\n",
    "                    splits_info.append((gini, threshold, i))\n",
    "            splits_info.sort(key=lambda x: x[0])\n",
    "            subX_left, subX_right, suby_left, suby_right = [], [], [], []\n",
    "            if len(splits_info[-1]) == 4:\n",
    "                right_split_set = []\n",
    "                for i, pair in zip(range(len(splits_info[-1][2])), splits_info[-1][2]):\n",
    "                    if i < splits_info[-1][1]:\n",
    "                        continue\n",
    "                    right_split_set.append(pair[1])\n",
    "                right_split_set = set(right_split_set)\n",
    "                node.append(splits_info[-1][3])\n",
    "                node.append(right_split_set)\n",
    "                node.append([])\n",
    "                node.append([])\n",
    "                for x, y in zip(subX, suby):\n",
    "                    if x[splits_info[-1][3]] in right_split_set:\n",
    "                        subX_right.append(x)\n",
    "                        suby_right.append(y)\n",
    "                    else:\n",
    "                        subX_left.append(x)\n",
    "                        suby_left.append(y)\n",
    "                subX_right = np.array(subX_right)\n",
    "                subX_left = np.array(subX_left)\n",
    "                suby_right = np.array(suby_right)\n",
    "                suby_left = np.array(suby_left)\n",
    "            else:\n",
    "                node.append(splits_info[-1][2])\n",
    "                node.append(splits_info[-1][1])\n",
    "                node.append([])\n",
    "                node.append([])\n",
    "                division_mask = subX[:, splits_info[-1][2]] < splits_info[-1][1]\n",
    "                subX_left = subX[division_mask, :]\n",
    "                suby_left = suby[division_mask]\n",
    "                division_mask = ~division_mask\n",
    "                subX_right = subX[division_mask, :]\n",
    "                suby_right = suby[division_mask]\n",
    "            fit_node(subX_left, suby_left, node[2])\n",
    "            fit_node(subX_right, suby_right, node[3])\n",
    "\n",
    "            \n",
    "        self._tree = []\n",
    "        fit_node(X, y, self._tree)\n",
    "\n",
    "        \n",
    "    def predict(self, X):\n",
    "        def predict_node(x, node):\n",
    "            if isinstance(node[1], set):\n",
    "                if x[node[0]] in node[1]:\n",
    "                    if len(node[3]) > 1:\n",
    "                        return predict_node(x, node[3])\n",
    "                    else:\n",
    "                        return node[3]\n",
    "                else:\n",
    "                    if len(node[2]) > 1:\n",
    "                        return predict_node(x, node[2])\n",
    "                    else:\n",
    "                        return node[2]\n",
    "            else:\n",
    "                if x[node[0]] < node[1]:\n",
    "                    if len(node[2]) > 1:\n",
    "                        return predict_node(x, node[2])\n",
    "                    else:\n",
    "                        return node[2]\n",
    "                else:\n",
    "                    if len(node[3]) > 1:\n",
    "                        return predict_node(x, node[3])\n",
    "                    else:\n",
    "                        return node[3]\n",
    "            \n",
    "            \n",
    "        predicted = []\n",
    "        for x in X:\n",
    "            predicted.append(predict_node(x, self._tree))\n",
    "        return np.array(predicted)\n",
    "\n",
    "\n",
    "    def get_tree(self):\n",
    "        return self._tree.copy()"
   ]
  },
  {
   "cell_type": "markdown",
   "metadata": {},
   "source": [
    "В экспериментах выборки делились поровну на обучающую и на тестовую, если заранее не были разделены. Результат классификации случайного леса из одного дерева на выборке **mushroom** с критерием Джини:"
   ]
  },
  {
   "cell_type": "code",
   "execution_count": 9,
   "metadata": {
    "ExecuteTime": {
     "end_time": "2018-10-22T19:39:09.260080Z",
     "start_time": "2018-10-22T19:39:08.959436Z"
    },
    "run_control": {
     "frozen": false,
     "read_only": false
    }
   },
   "outputs": [
    {
     "name": "stdout",
     "output_type": "stream",
     "text": [
      "accuracy on test is: 1.0\n",
      "AUC ROC on test is: 1.0\n",
      "tree topology:\n"
     ]
    },
    {
     "data": {
      "text/plain": [
       "[4,\n",
       " {1, 2, 4, 6, 7, 8},\n",
       " [19,\n",
       "  {5},\n",
       "  [14,\n",
       "   {8},\n",
       "   [1,\n",
       "    {1},\n",
       "    [0,\n",
       "     {1},\n",
       "     [14, {4}, [21, {2}, [0], [19, {7}, [0], [1]]], [11, {1}, [0], [1]]],\n",
       "     [1]],\n",
       "    [1]],\n",
       "   [1]],\n",
       "  [1]],\n",
       " [1]]"
      ]
     },
     "execution_count": 9,
     "metadata": {},
     "output_type": "execute_result"
    }
   ],
   "source": [
    "clf = DecisionTree(np.ones(mushrooms_design.shape[1]))\n",
    "clf.fit(mushrooms_X_train, mushrooms_y_train)\n",
    "results.loc['mushroom', ('gini', 'accuracy')] = accuracy_score(y_pred=clf.predict(mushrooms_X_test), y_true=mushrooms_y_test)\n",
    "results.loc['mushroom', ('gini', 'AUC ROC')] = roc_auc_score(y_true=mushrooms_y_test, y_score=clf.predict(mushrooms_X_test))\n",
    "print('accuracy on test is:', results.loc['mushroom', ('gini', 'accuracy')])\n",
    "print('AUC ROC on test is:', results.loc['mushroom', ('gini', 'AUC ROC')])\n",
    "print('tree topology:')\n",
    "clf.get_tree()"
   ]
  },
  {
   "cell_type": "markdown",
   "metadata": {},
   "source": [
    "Результат классификации случайного леса из одного дерева на выборке **mushroom** с критерием TPR-FPR, дерево оказалось менее глубоким:"
   ]
  },
  {
   "cell_type": "code",
   "execution_count": 10,
   "metadata": {
    "ExecuteTime": {
     "end_time": "2018-10-22T19:39:10.084014Z",
     "start_time": "2018-10-22T19:39:09.937510Z"
    },
    "run_control": {
     "frozen": false,
     "read_only": false
    }
   },
   "outputs": [
    {
     "name": "stdout",
     "output_type": "stream",
     "text": [
      "accuracy on test is: 1.0\n",
      "AUC ROC on test is: 1.0\n",
      "tree topology:\n"
     ]
    },
    {
     "data": {
      "text/plain": [
       "[4,\n",
       " {1, 2, 4, 6, 7, 8},\n",
       " [19, {5, 7}, [0], [20, {4}, [21, {2}, [0], [1]], [21, {0, 1, 3}, [0], [1]]]],\n",
       " [1]]"
      ]
     },
     "execution_count": 10,
     "metadata": {},
     "output_type": "execute_result"
    }
   ],
   "source": [
    "clf = DecisionTree(np.ones(mushrooms_design.shape[1]), criterion='tpr_minus_fpr')\n",
    "clf.fit(mushrooms_X_train, mushrooms_y_train)\n",
    "results.loc['mushroom', ('TPR-FPR', 'accuracy')] = accuracy_score(y_pred=clf.predict(mushrooms_X_test), y_true=mushrooms_y_test)\n",
    "results.loc['mushroom', ('TPR-FPR', 'AUC ROC')] = roc_auc_score(y_true=mushrooms_y_test, y_score=clf.predict(mushrooms_X_test))\n",
    "print('accuracy on test is:', results.loc['mushroom', ('TPR-FPR', 'accuracy')])\n",
    "print('AUC ROC on test is:', results.loc['mushroom', ('TPR-FPR', 'AUC ROC')])\n",
    "print('tree topology:')\n",
    "clf.get_tree()"
   ]
  },
  {
   "cell_type": "markdown",
   "metadata": {},
   "source": [
    "Результат классификации случайного леса из одного дерева на выборке **mushroom** с энтропийным критерием:"
   ]
  },
  {
   "cell_type": "code",
   "execution_count": 11,
   "metadata": {
    "ExecuteTime": {
     "end_time": "2018-10-22T19:39:11.046536Z",
     "start_time": "2018-10-22T19:39:10.871414Z"
    },
    "run_control": {
     "frozen": false,
     "read_only": false
    }
   },
   "outputs": [
    {
     "name": "stdout",
     "output_type": "stream",
     "text": [
      "accuracy on test is: 1.0\n",
      "AUC ROC on test is: 1.0\n",
      "tree topology:\n"
     ]
    },
    {
     "data": {
      "text/plain": [
       "[4,\n",
       " {1, 2, 4, 6, 7, 8},\n",
       " [19, {5}, [7, {1}, [0], [12, {3}, [20, {1}, [0], [1]], [1]]], [1]],\n",
       " [1]]"
      ]
     },
     "execution_count": 11,
     "metadata": {},
     "output_type": "execute_result"
    }
   ],
   "source": [
    "clf = DecisionTree(np.ones(mushrooms_design.shape[1]), criterion='entropy')\n",
    "clf.fit(mushrooms_X_train, mushrooms_y_train)\n",
    "results.loc['mushroom', ('entropy', 'accuracy')] = accuracy_score(y_pred=clf.predict(mushrooms_X_test), y_true=mushrooms_y_test)\n",
    "results.loc['mushroom', ('entropy', 'AUC ROC')] = roc_auc_score(y_true=mushrooms_y_test, y_score=clf.predict(mushrooms_X_test))\n",
    "print('accuracy on test is:', results.loc['mushroom', ('entropy', 'accuracy')])\n",
    "print('AUC ROC on test is:', results.loc['mushroom', ('entropy', 'AUC ROC')])\n",
    "print('tree topology:')\n",
    "clf.get_tree()"
   ]
  },
  {
   "cell_type": "markdown",
   "metadata": {},
   "source": [
    "Загружаем выборку **pima**:"
   ]
  },
  {
   "cell_type": "code",
   "execution_count": 12,
   "metadata": {
    "ExecuteTime": {
     "end_time": "2018-10-22T19:39:11.889491Z",
     "start_time": "2018-10-22T19:39:11.882921Z"
    },
    "run_control": {
     "frozen": false,
     "read_only": false
    }
   },
   "outputs": [],
   "source": [
    "df = pd.read_csv(filename_list[-1], names=np.hstack((np.arange(1, 9).astype(np.string_), np.array(['y']))))"
   ]
  },
  {
   "cell_type": "markdown",
   "metadata": {},
   "source": [
    "Размер выборки:"
   ]
  },
  {
   "cell_type": "code",
   "execution_count": 13,
   "metadata": {
    "ExecuteTime": {
     "end_time": "2018-10-22T19:39:13.032791Z",
     "start_time": "2018-10-22T19:39:13.027630Z"
    },
    "run_control": {
     "frozen": false,
     "read_only": false
    }
   },
   "outputs": [
    {
     "data": {
      "text/plain": [
       "(768, 9)"
      ]
     },
     "execution_count": 13,
     "metadata": {},
     "output_type": "execute_result"
    }
   ],
   "source": [
    "results.loc['pima', ('description', 'size')] = df.shape[0]\n",
    "results.loc['pima', ('description', 'features num')] = df.shape[1] - 1\n",
    "df.shape"
   ]
  },
  {
   "cell_type": "markdown",
   "metadata": {},
   "source": [
    "Доля положительных объектов в выборке:"
   ]
  },
  {
   "cell_type": "code",
   "execution_count": 14,
   "metadata": {
    "ExecuteTime": {
     "end_time": "2018-10-22T19:39:14.131447Z",
     "start_time": "2018-10-22T19:39:14.117208Z"
    },
    "run_control": {
     "frozen": false,
     "read_only": false
    }
   },
   "outputs": [
    {
     "data": {
      "text/plain": [
       "0.3489583333333333"
      ]
     },
     "execution_count": 14,
     "metadata": {},
     "output_type": "execute_result"
    }
   ],
   "source": [
    "results.loc['pima', ('description', 'positive class ratio')] = df.y.mean()\n",
    "results.loc['pima', ('description', 'positive class ratio')]"
   ]
  },
  {
   "cell_type": "markdown",
   "metadata": {},
   "source": [
    "Разделяем выборку на обучающую и тестовую:"
   ]
  },
  {
   "cell_type": "code",
   "execution_count": 15,
   "metadata": {
    "ExecuteTime": {
     "end_time": "2018-10-22T19:39:18.368824Z",
     "start_time": "2018-10-22T19:39:18.359666Z"
    },
    "run_control": {
     "frozen": false,
     "read_only": false
    }
   },
   "outputs": [],
   "source": [
    "X_train, X_test, y_train, y_test = train_test_split(df.iloc[:, :8].as_matrix(), df.iloc[:, 8].as_matrix(),\n",
    "                                                    test_size=0.5,\n",
    "                                                    random_state=42)"
   ]
  },
  {
   "cell_type": "markdown",
   "metadata": {},
   "source": [
    "Результат классификации случайного леса из 20 деревьев на выборке **pima** с критерием Джини:"
   ]
  },
  {
   "cell_type": "code",
   "execution_count": 16,
   "metadata": {
    "ExecuteTime": {
     "end_time": "2018-10-22T19:39:19.522093Z",
     "start_time": "2018-10-22T19:39:18.698005Z"
    },
    "run_control": {
     "frozen": false,
     "read_only": false
    }
   },
   "outputs": [
    {
     "name": "stdout",
     "output_type": "stream",
     "text": [
      "accuracy on test is: 0.7864583333333334\n",
      "AUC ROC on test is: 0.7597213809812235\n"
     ]
    }
   ],
   "source": [
    "ens_clf = BaggingClassifier(DecisionTree(np.zeros(X_train.shape[1]), criterion='gini'),\n",
    "                            random_state=42,\n",
    "                            n_estimators=20)\n",
    "ens_clf.fit(X_train, y_train)\n",
    "results.loc['pima', ('gini', 'accuracy')] = accuracy_score(y_pred=ens_clf.predict(X_test), y_true=y_test)\n",
    "results.loc['pima', ('gini', 'AUC ROC')] = roc_auc_score(y_true=y_test, y_score=ens_clf.predict(X_test))\n",
    "print('accuracy on test is:', results.loc['pima', ('gini', 'accuracy')])\n",
    "print('AUC ROC on test is:', results.loc['pima', ('gini', 'AUC ROC')])"
   ]
  },
  {
   "cell_type": "markdown",
   "metadata": {},
   "source": [
    "Результат классификации случайного леса из 20 деревьев на выборке **pima** с критерием TPR-FPR:"
   ]
  },
  {
   "cell_type": "code",
   "execution_count": 17,
   "metadata": {
    "ExecuteTime": {
     "end_time": "2018-10-22T19:39:20.327447Z",
     "start_time": "2018-10-22T19:39:19.524239Z"
    },
    "run_control": {
     "frozen": false,
     "read_only": false
    }
   },
   "outputs": [
    {
     "name": "stdout",
     "output_type": "stream",
     "text": [
      "accuracy on test is: 0.75\n",
      "AUC ROC on test is: 0.7077528770442156\n"
     ]
    }
   ],
   "source": [
    "ens_clf = BaggingClassifier(DecisionTree(np.zeros(X_train.shape[1]), criterion='tpr_minus_fpr'),\n",
    "                            random_state=42,\n",
    "                            n_estimators=20)\n",
    "ens_clf.fit(X_train, y_train)\n",
    "results.loc['pima', ('TPR-FPR', 'accuracy')] = accuracy_score(y_pred=ens_clf.predict(X_test), y_true=y_test)\n",
    "results.loc['pima', ('TPR-FPR', 'AUC ROC')] = roc_auc_score(y_true=y_test, y_score=ens_clf.predict(X_test))\n",
    "print('accuracy on test is:', results.loc['pima', ('TPR-FPR', 'accuracy')])\n",
    "print('AUC ROC on test is:', results.loc['pima', ('TPR-FPR', 'AUC ROC')])"
   ]
  },
  {
   "cell_type": "markdown",
   "metadata": {},
   "source": [
    "Результат классификации случайного леса из 20 деревьев на выборке **pima** с энтропийным критерием:"
   ]
  },
  {
   "cell_type": "code",
   "execution_count": 18,
   "metadata": {
    "ExecuteTime": {
     "end_time": "2018-10-22T19:39:21.288650Z",
     "start_time": "2018-10-22T19:39:20.329124Z"
    },
    "run_control": {
     "frozen": false,
     "read_only": false
    }
   },
   "outputs": [
    {
     "name": "stdout",
     "output_type": "stream",
     "text": [
      "accuracy on test is: 0.7838541666666666\n",
      "AUC ROC on test is: 0.7633858267716536\n"
     ]
    }
   ],
   "source": [
    "ens_clf = BaggingClassifier(DecisionTree(np.zeros(X_train.shape[1]), criterion='entropy'),\n",
    "                            random_state=42,\n",
    "                            n_estimators=20)\n",
    "ens_clf.fit(X_train, y_train)\n",
    "results.loc['pima', ('entropy', 'accuracy')] = accuracy_score(y_pred=ens_clf.predict(X_test), y_true=y_test)\n",
    "results.loc['pima', ('entropy', 'AUC ROC')] = roc_auc_score(y_true=y_test, y_score=ens_clf.predict(X_test))\n",
    "print('accuracy on test is:', results.loc['pima', ('entropy', 'accuracy')])\n",
    "print('AUC ROC on test is:', results.loc['pima', ('entropy', 'AUC ROC')])"
   ]
  },
  {
   "cell_type": "markdown",
   "metadata": {},
   "source": [
    "Загружаем выборку **breast cancer**:"
   ]
  },
  {
   "cell_type": "code",
   "execution_count": 19,
   "metadata": {
    "ExecuteTime": {
     "end_time": "2018-10-22T19:39:21.300299Z",
     "start_time": "2018-10-22T19:39:21.291227Z"
    },
    "run_control": {
     "frozen": false,
     "read_only": false
    }
   },
   "outputs": [],
   "source": [
    "X, y = load_svmlight_file(filename_list[0])\n",
    "X = X.toarray()"
   ]
  },
  {
   "cell_type": "markdown",
   "metadata": {},
   "source": [
    "Размер выборки: "
   ]
  },
  {
   "cell_type": "code",
   "execution_count": 20,
   "metadata": {
    "ExecuteTime": {
     "end_time": "2018-10-22T19:39:21.413625Z",
     "start_time": "2018-10-22T19:39:21.302592Z"
    },
    "run_control": {
     "frozen": false,
     "read_only": false
    }
   },
   "outputs": [
    {
     "data": {
      "text/plain": [
       "(683, 10)"
      ]
     },
     "execution_count": 20,
     "metadata": {},
     "output_type": "execute_result"
    }
   ],
   "source": [
    "results.loc['breast cancer', ('description', 'size')] = X.shape[0]\n",
    "results.loc['breast cancer', ('description', 'features num')] = X.shape[1]\n",
    "X.shape"
   ]
  },
  {
   "cell_type": "markdown",
   "metadata": {},
   "source": [
    "Доля положительных объектов в выборке:"
   ]
  },
  {
   "cell_type": "code",
   "execution_count": 21,
   "metadata": {
    "ExecuteTime": {
     "end_time": "2018-10-22T19:39:21.496925Z",
     "start_time": "2018-10-22T19:39:21.415325Z"
    },
    "run_control": {
     "frozen": false,
     "read_only": false
    }
   },
   "outputs": [
    {
     "data": {
      "text/plain": [
       "0.34992679355783307"
      ]
     },
     "execution_count": 21,
     "metadata": {},
     "output_type": "execute_result"
    }
   ],
   "source": [
    "y[y == 2] = 0\n",
    "y[y == 4] = 1\n",
    "results.loc['breast cancer', ('description', 'positive class ratio')] = y.mean()\n",
    "results.loc['breast cancer', ('description', 'positive class ratio')]"
   ]
  },
  {
   "cell_type": "markdown",
   "metadata": {},
   "source": [
    "Разбиение выборки на обучающую и тестовую:"
   ]
  },
  {
   "cell_type": "code",
   "execution_count": 22,
   "metadata": {
    "ExecuteTime": {
     "end_time": "2018-10-22T19:39:21.806061Z",
     "start_time": "2018-10-22T19:39:21.803148Z"
    },
    "run_control": {
     "frozen": false,
     "read_only": false
    }
   },
   "outputs": [],
   "source": [
    "X_train, X_test, y_train, y_test = train_test_split(X, y,\n",
    "                                                    test_size=0.5,\n",
    "                                                    random_state=42)"
   ]
  },
  {
   "cell_type": "markdown",
   "metadata": {},
   "source": [
    "Результат классификации случайного леса из 20 деревьев на выборке **breast cancer** с критерием Джини:"
   ]
  },
  {
   "cell_type": "code",
   "execution_count": 23,
   "metadata": {
    "ExecuteTime": {
     "end_time": "2018-10-22T19:39:22.488828Z",
     "start_time": "2018-10-22T19:39:22.165893Z"
    },
    "run_control": {
     "frozen": false,
     "read_only": false
    }
   },
   "outputs": [
    {
     "name": "stdout",
     "output_type": "stream",
     "text": [
      "accuracy on test is: 0.9444444444444444\n",
      "AUC ROC on test is: 0.9303418171056524\n"
     ]
    }
   ],
   "source": [
    "ens_clf = BaggingClassifier(DecisionTree(np.zeros(X_train.shape[1]), criterion='gini'),\n",
    "                            random_state=42,\n",
    "                            n_estimators=20)\n",
    "ens_clf.fit(X_train, y_train)\n",
    "results.loc['breast cancer', ('gini', 'accuracy')] = accuracy_score(y_pred=ens_clf.predict(X_test), y_true=y_test)\n",
    "results.loc['breast cancer', ('gini', 'AUC ROC')] = roc_auc_score(y_true=y_test, y_score=ens_clf.predict(X_test))\n",
    "print('accuracy on test is:', results.loc['breast cancer', ('gini', 'accuracy')])\n",
    "print('AUC ROC on test is:', results.loc['breast cancer', ('gini', 'AUC ROC')])"
   ]
  },
  {
   "cell_type": "markdown",
   "metadata": {},
   "source": [
    "Результат классификации случайного леса из 20 деревьев на выборке **breast cancer** с критерием TPR-FPR:"
   ]
  },
  {
   "cell_type": "code",
   "execution_count": 24,
   "metadata": {
    "ExecuteTime": {
     "end_time": "2018-10-22T19:39:22.812197Z",
     "start_time": "2018-10-22T19:39:22.517977Z"
    },
    "run_control": {
     "frozen": false,
     "read_only": false
    }
   },
   "outputs": [
    {
     "name": "stdout",
     "output_type": "stream",
     "text": [
      "accuracy on test is: 0.9502923976608187\n",
      "AUC ROC on test is: 0.9349289730689553\n"
     ]
    }
   ],
   "source": [
    "ens_clf = BaggingClassifier(DecisionTree(np.zeros(X_train.shape[1]), criterion='tpr_minus_fpr'),\n",
    "                            random_state=42,\n",
    "                            n_estimators=20)\n",
    "ens_clf.fit(X_train, y_train)\n",
    "results.loc['breast cancer', ('TPR-FPR', 'accuracy')] = accuracy_score(y_pred=ens_clf.predict(X_test), y_true=y_test)\n",
    "results.loc['breast cancer', ('TPR-FPR', 'AUC ROC')] = roc_auc_score(y_true=y_test, y_score=ens_clf.predict(X_test))\n",
    "print('accuracy on test is:', results.loc['breast cancer', ('TPR-FPR', 'accuracy')])\n",
    "print('AUC ROC on test is:', results.loc['breast cancer', ('TPR-FPR', 'AUC ROC')])"
   ]
  },
  {
   "cell_type": "markdown",
   "metadata": {},
   "source": [
    "Результат классификации случайного леса из 20 деревьев на выборке **breast cancer** с энтропийным критерием:"
   ]
  },
  {
   "cell_type": "code",
   "execution_count": 25,
   "metadata": {
    "ExecuteTime": {
     "end_time": "2018-10-22T19:39:23.271089Z",
     "start_time": "2018-10-22T19:39:22.880087Z"
    },
    "run_control": {
     "frozen": false,
     "read_only": false
    }
   },
   "outputs": [
    {
     "name": "stdout",
     "output_type": "stream",
     "text": [
      "accuracy on test is: 0.9532163742690059\n",
      "AUC ROC on test is: 0.9406999112163361\n"
     ]
    }
   ],
   "source": [
    "ens_clf = BaggingClassifier(DecisionTree(np.zeros(X_train.shape[1]), criterion='entropy'),\n",
    "                            random_state=42,\n",
    "                            n_estimators=20)\n",
    "ens_clf.fit(X_train, y_train)\n",
    "results.loc['breast cancer', ('entropy', 'accuracy')] = accuracy_score(y_pred=ens_clf.predict(X_test), y_true=y_test)\n",
    "results.loc['breast cancer', ('entropy', 'AUC ROC')] = roc_auc_score(y_true=y_test, y_score=ens_clf.predict(X_test))\n",
    "print('accuracy on test is:', results.loc['breast cancer', ('entropy', 'accuracy')])\n",
    "print('AUC ROC on test is:', results.loc['breast cancer', ('entropy', 'AUC ROC')])"
   ]
  },
  {
   "cell_type": "markdown",
   "metadata": {},
   "source": [
    "Загружаем выборку **madelon**:"
   ]
  },
  {
   "cell_type": "code",
   "execution_count": 26,
   "metadata": {
    "ExecuteTime": {
     "end_time": "2018-10-22T19:39:23.963787Z",
     "start_time": "2018-10-22T19:39:23.272623Z"
    },
    "run_control": {
     "frozen": false,
     "read_only": false
    }
   },
   "outputs": [],
   "source": [
    "X_train, y_train = load_svmlight_file(filename_list[1])\n",
    "X_test, y_test = load_svmlight_file(filename_list[2])\n",
    "X_train = X_train.toarray()\n",
    "X_test = X_test.toarray()"
   ]
  },
  {
   "cell_type": "markdown",
   "metadata": {},
   "source": [
    "Размер обучающей выборки:"
   ]
  },
  {
   "cell_type": "code",
   "execution_count": 27,
   "metadata": {
    "ExecuteTime": {
     "end_time": "2018-10-22T19:39:23.971001Z",
     "start_time": "2018-10-22T19:39:23.965323Z"
    },
    "run_control": {
     "frozen": false,
     "read_only": false
    }
   },
   "outputs": [
    {
     "data": {
      "text/plain": [
       "(2000, 500)"
      ]
     },
     "execution_count": 27,
     "metadata": {},
     "output_type": "execute_result"
    }
   ],
   "source": [
    "results.loc['madelon', ('description', 'size')] = X_train.shape[0] + X_test.shape[0]\n",
    "results.loc['madelon', ('description', 'features num')] = X_train.shape[1] + X_test.shape[1]\n",
    "X_train.shape"
   ]
  },
  {
   "cell_type": "markdown",
   "metadata": {},
   "source": [
    "Доля положительных объектов в обучающей выборке:"
   ]
  },
  {
   "cell_type": "code",
   "execution_count": 28,
   "metadata": {
    "ExecuteTime": {
     "end_time": "2018-10-22T19:39:24.052247Z",
     "start_time": "2018-10-22T19:39:23.973233Z"
    },
    "run_control": {
     "frozen": false,
     "read_only": false
    }
   },
   "outputs": [
    {
     "data": {
      "text/plain": [
       "0.5"
      ]
     },
     "execution_count": 28,
     "metadata": {},
     "output_type": "execute_result"
    }
   ],
   "source": [
    "y_train[y_train < 0] = 0\n",
    "results.loc['madelon', ('description', 'positive class ratio')] = y_train.mean()\n",
    "results.loc['madelon', ('description', 'positive class ratio')]"
   ]
  },
  {
   "cell_type": "markdown",
   "metadata": {},
   "source": [
    "Размер тестовой выборки:"
   ]
  },
  {
   "cell_type": "code",
   "execution_count": 29,
   "metadata": {
    "ExecuteTime": {
     "end_time": "2018-10-22T19:39:24.285233Z",
     "start_time": "2018-10-22T19:39:24.277674Z"
    },
    "run_control": {
     "frozen": false,
     "read_only": false
    }
   },
   "outputs": [
    {
     "data": {
      "text/plain": [
       "(600, 500)"
      ]
     },
     "execution_count": 29,
     "metadata": {},
     "output_type": "execute_result"
    }
   ],
   "source": [
    "X_test.shape"
   ]
  },
  {
   "cell_type": "markdown",
   "metadata": {},
   "source": [
    "Доля положительных объектов в тестовой выборке:"
   ]
  },
  {
   "cell_type": "code",
   "execution_count": 30,
   "metadata": {
    "ExecuteTime": {
     "end_time": "2018-10-22T19:39:24.623224Z",
     "start_time": "2018-10-22T19:39:24.618808Z"
    },
    "run_control": {
     "frozen": false,
     "read_only": false
    }
   },
   "outputs": [
    {
     "data": {
      "text/plain": [
       "0.5"
      ]
     },
     "execution_count": 30,
     "metadata": {},
     "output_type": "execute_result"
    }
   ],
   "source": [
    "y_test[y_test < 0] = 0\n",
    "y_test.mean()"
   ]
  },
  {
   "cell_type": "markdown",
   "metadata": {},
   "source": [
    "Результат классификации случайного леса из 20 деревьев на выборке **madelon** с критерием Джини:"
   ]
  },
  {
   "cell_type": "code",
   "execution_count": 31,
   "metadata": {
    "ExecuteTime": {
     "end_time": "2018-10-22T19:42:50.020909Z",
     "start_time": "2018-10-22T19:39:25.025099Z"
    },
    "run_control": {
     "frozen": false,
     "read_only": false
    }
   },
   "outputs": [
    {
     "name": "stdout",
     "output_type": "stream",
     "text": [
      "accuracy on test is: 0.8233333333333334\n",
      "AUC ROC on test is: 0.8233333333333334\n"
     ]
    }
   ],
   "source": [
    "ens_clf = BaggingClassifier(DecisionTree(np.zeros(X_train.shape[1]), criterion='gini'),\n",
    "                            random_state=42,\n",
    "                            n_estimators=20)\n",
    "ens_clf.fit(X_train, y_train)\n",
    "results.loc['madelon', ('gini', 'accuracy')] = accuracy_score(y_pred=ens_clf.predict(X_test), y_true=y_test)\n",
    "results.loc['madelon', ('gini', 'AUC ROC')] = roc_auc_score(y_true=y_test, y_score=ens_clf.predict(X_test))\n",
    "print('accuracy on test is:', results.loc['madelon', ('gini', 'accuracy')])\n",
    "print('AUC ROC on test is:', results.loc['madelon', ('gini', 'AUC ROC')])"
   ]
  },
  {
   "cell_type": "markdown",
   "metadata": {},
   "source": [
    "Результат классификации случайного леса из 20 деревьев на выборке **madelon** с критерием TPR-FPR:"
   ]
  },
  {
   "cell_type": "code",
   "execution_count": 32,
   "metadata": {
    "ExecuteTime": {
     "end_time": "2018-10-22T19:45:24.366270Z",
     "start_time": "2018-10-22T19:42:50.023113Z"
    },
    "run_control": {
     "frozen": false,
     "read_only": false
    }
   },
   "outputs": [
    {
     "name": "stdout",
     "output_type": "stream",
     "text": [
      "accuracy on test is: 0.8233333333333334\n",
      "AUC ROC on test is: 0.8233333333333334\n"
     ]
    }
   ],
   "source": [
    "ens_clf = BaggingClassifier(DecisionTree(np.zeros(X_train.shape[1]), criterion='tpr_minus_fpr'),\n",
    "                            random_state=42,\n",
    "                            n_estimators=20)\n",
    "ens_clf.fit(X_train, y_train)\n",
    "results.loc['madelon', ('TPR-FPR', 'accuracy')] = accuracy_score(y_pred=ens_clf.predict(X_test), y_true=y_test)\n",
    "results.loc['madelon', ('TPR-FPR', 'AUC ROC')] = roc_auc_score(y_true=y_test, y_score=ens_clf.predict(X_test))\n",
    "print('accuracy on test is:', results.loc['madelon', ('TPR-FPR', 'accuracy')])\n",
    "print('AUC ROC on test is:', results.loc['madelon', ('TPR-FPR', 'AUC ROC')])"
   ]
  },
  {
   "cell_type": "markdown",
   "metadata": {},
   "source": [
    "Результат классификации случайного леса из 20 деревьев на выборке **madelon** с энтропийным критерием:"
   ]
  },
  {
   "cell_type": "code",
   "execution_count": 33,
   "metadata": {
    "ExecuteTime": {
     "end_time": "2018-10-22T19:48:33.074017Z",
     "start_time": "2018-10-22T19:45:24.368008Z"
    },
    "run_control": {
     "frozen": false,
     "read_only": false
    }
   },
   "outputs": [
    {
     "name": "stdout",
     "output_type": "stream",
     "text": [
      "accuracy on test is: 0.8183333333333334\n",
      "AUC ROC on test is: 0.8183333333333334\n"
     ]
    }
   ],
   "source": [
    "ens_clf = BaggingClassifier(DecisionTree(np.zeros(X_train.shape[1]), criterion='entropy'),\n",
    "                            random_state=42,\n",
    "                            n_estimators=20)\n",
    "ens_clf.fit(X_train, y_train)\n",
    "results.loc['madelon', ('entropy', 'accuracy')] = accuracy_score(y_pred=ens_clf.predict(X_test), y_true=y_test)\n",
    "results.loc['madelon', ('entropy', 'AUC ROC')] = roc_auc_score(y_true=y_test, y_score=ens_clf.predict(X_test))\n",
    "print('accuracy on test is:', results.loc['madelon', ('entropy', 'accuracy')])\n",
    "print('AUC ROC on test is:', results.loc['madelon', ('entropy', 'AUC ROC')])"
   ]
  },
  {
   "cell_type": "markdown",
   "metadata": {},
   "source": [
    "Загружаем выборку **banknote**:"
   ]
  },
  {
   "cell_type": "code",
   "execution_count": 34,
   "metadata": {
    "ExecuteTime": {
     "end_time": "2018-10-22T19:48:33.080128Z",
     "start_time": "2018-10-22T19:48:33.075849Z"
    },
    "run_control": {
     "frozen": false,
     "read_only": false
    }
   },
   "outputs": [],
   "source": [
    "df = pd.read_csv(filename_list[-2], names=np.hstack((np.arange(1, 5).astype(np.string_), np.array(['y']))))"
   ]
  },
  {
   "cell_type": "markdown",
   "metadata": {},
   "source": [
    "Размер выборки:"
   ]
  },
  {
   "cell_type": "code",
   "execution_count": 35,
   "metadata": {
    "ExecuteTime": {
     "end_time": "2018-10-22T19:48:33.226352Z",
     "start_time": "2018-10-22T19:48:33.081749Z"
    },
    "run_control": {
     "frozen": false,
     "read_only": false
    }
   },
   "outputs": [
    {
     "data": {
      "text/plain": [
       "(1372, 5)"
      ]
     },
     "execution_count": 35,
     "metadata": {},
     "output_type": "execute_result"
    }
   ],
   "source": [
    "results.loc['banknote', ('description', 'size')] = df.shape[0]\n",
    "results.loc['banknote', ('description', 'features num')] = df.shape[1]\n",
    "df.shape"
   ]
  },
  {
   "cell_type": "markdown",
   "metadata": {},
   "source": [
    "Доля положительных объектов в выборке:"
   ]
  },
  {
   "cell_type": "code",
   "execution_count": 36,
   "metadata": {
    "ExecuteTime": {
     "end_time": "2018-10-22T19:48:33.328388Z",
     "start_time": "2018-10-22T19:48:33.228282Z"
    },
    "run_control": {
     "frozen": false,
     "read_only": false
    }
   },
   "outputs": [
    {
     "data": {
      "text/plain": [
       "0.4446064139941691"
      ]
     },
     "execution_count": 36,
     "metadata": {},
     "output_type": "execute_result"
    }
   ],
   "source": [
    "results.loc['banknote', ('description', 'positive class ratio')] = df.y.mean()\n",
    "results.loc['banknote', ('description', 'positive class ratio')]"
   ]
  },
  {
   "cell_type": "markdown",
   "metadata": {},
   "source": [
    "Разделение выборки на обучающую и тестовую:"
   ]
  },
  {
   "cell_type": "code",
   "execution_count": 37,
   "metadata": {
    "ExecuteTime": {
     "end_time": "2018-10-22T19:48:33.427040Z",
     "start_time": "2018-10-22T19:48:33.331024Z"
    },
    "run_control": {
     "frozen": false,
     "read_only": false
    }
   },
   "outputs": [],
   "source": [
    "X_train, X_test, y_train, y_test = train_test_split(df.iloc[:, :4].as_matrix(), df.iloc[:, 4].as_matrix(),\n",
    "                                                    test_size=0.5,\n",
    "                                                    random_state=42)"
   ]
  },
  {
   "cell_type": "markdown",
   "metadata": {},
   "source": [
    "Результат классификации случайного леса из 20 деревьев на выборке **banknote** с критерием Джини:"
   ]
  },
  {
   "cell_type": "code",
   "execution_count": 38,
   "metadata": {
    "ExecuteTime": {
     "end_time": "2018-10-22T19:48:34.215503Z",
     "start_time": "2018-10-22T19:48:33.428813Z"
    },
    "run_control": {
     "frozen": false,
     "read_only": false
    }
   },
   "outputs": [
    {
     "name": "stdout",
     "output_type": "stream",
     "text": [
      "accuracy on test is: 0.978134110787172\n",
      "AUC ROC on test is: 0.9772279792746114\n"
     ]
    }
   ],
   "source": [
    "ens_clf = BaggingClassifier(DecisionTree(np.zeros(X_train.shape[1]), criterion='gini'),\n",
    "                            random_state=42,\n",
    "                            n_estimators=20)\n",
    "ens_clf.fit(X_train, y_train)\n",
    "results.loc['banknote', ('gini', 'accuracy')] = accuracy_score(y_pred=ens_clf.predict(X_test), y_true=y_test)\n",
    "results.loc['banknote', ('gini', 'AUC ROC')] = roc_auc_score(y_true=y_test, y_score=ens_clf.predict(X_test))\n",
    "print('accuracy on test is:', results.loc['banknote', ('gini', 'accuracy')])\n",
    "print('AUC ROC on test is:', results.loc['banknote', ('gini', 'AUC ROC')])"
   ]
  },
  {
   "cell_type": "markdown",
   "metadata": {},
   "source": [
    "Результат классификации случайного леса из 20 деревьев на выборке **banknote** с критерием TPR-FPR:"
   ]
  },
  {
   "cell_type": "code",
   "execution_count": 39,
   "metadata": {
    "ExecuteTime": {
     "end_time": "2018-10-22T19:48:34.794016Z",
     "start_time": "2018-10-22T19:48:34.217790Z"
    },
    "run_control": {
     "frozen": false,
     "read_only": false
    }
   },
   "outputs": [
    {
     "name": "stdout",
     "output_type": "stream",
     "text": [
      "accuracy on test is: 0.9868804664723032\n",
      "AUC ROC on test is: 0.9861139896373057\n"
     ]
    }
   ],
   "source": [
    "ens_clf = BaggingClassifier(DecisionTree(np.zeros(X_train.shape[1]), criterion='tpr_minus_fpr'),\n",
    "                            random_state=42,\n",
    "                            n_estimators=20)\n",
    "ens_clf.fit(X_train, y_train)\n",
    "results.loc['banknote', ('TPR-FPR', 'accuracy')] = accuracy_score(y_pred=ens_clf.predict(X_test), y_true=y_test)\n",
    "results.loc['banknote', ('TPR-FPR', 'AUC ROC')] = roc_auc_score(y_true=y_test, y_score=ens_clf.predict(X_test))\n",
    "print('accuracy on test is:', results.loc['banknote', ('TPR-FPR', 'accuracy')])\n",
    "print('AUC ROC on test is:', results.loc['banknote', ('TPR-FPR', 'AUC ROC')])"
   ]
  },
  {
   "cell_type": "markdown",
   "metadata": {},
   "source": [
    "Результат классификации случайного леса из 20 деревьев на выборке **banknote** с энтропийным критерием:"
   ]
  },
  {
   "cell_type": "code",
   "execution_count": 40,
   "metadata": {
    "ExecuteTime": {
     "end_time": "2018-10-22T19:48:35.471323Z",
     "start_time": "2018-10-22T19:48:34.795854Z"
    },
    "run_control": {
     "frozen": false,
     "read_only": false
    }
   },
   "outputs": [
    {
     "name": "stdout",
     "output_type": "stream",
     "text": [
      "accuracy on test is: 0.9868804664723032\n",
      "AUC ROC on test is: 0.9868566493955094\n"
     ]
    }
   ],
   "source": [
    "ens_clf = BaggingClassifier(DecisionTree(np.zeros(X_train.shape[1]), criterion='entropy'),\n",
    "                            random_state=42,\n",
    "                            n_estimators=20)\n",
    "ens_clf.fit(X_train, y_train)\n",
    "results.loc['banknote', ('entropy', 'accuracy')] = accuracy_score(y_pred=ens_clf.predict(X_test), y_true=y_test)\n",
    "results.loc['banknote', ('entropy', 'AUC ROC')] = roc_auc_score(y_true=y_test, y_score=ens_clf.predict(X_test))\n",
    "print('accuracy on test is:', results.loc['banknote', ('entropy', 'accuracy')])\n",
    "print('AUC ROC on test is:', results.loc['banknote', ('entropy', 'AUC ROC')])"
   ]
  },
  {
   "cell_type": "markdown",
   "metadata": {},
   "source": [
    "Результаты экспериментов:"
   ]
  },
  {
   "cell_type": "code",
   "execution_count": 41,
   "metadata": {
    "ExecuteTime": {
     "end_time": "2018-10-22T19:48:35.487589Z",
     "start_time": "2018-10-22T19:48:35.473377Z"
    },
    "run_control": {
     "frozen": false,
     "read_only": false
    }
   },
   "outputs": [
    {
     "data": {
      "text/html": [
       "<div>\n",
       "<table border=\"1\" class=\"dataframe\">\n",
       "  <thead>\n",
       "    <tr>\n",
       "      <th></th>\n",
       "      <th colspan=\"2\" halign=\"left\">gini</th>\n",
       "      <th colspan=\"2\" halign=\"left\">TPR-FPR</th>\n",
       "      <th colspan=\"2\" halign=\"left\">entropy</th>\n",
       "      <th colspan=\"3\" halign=\"left\">description</th>\n",
       "    </tr>\n",
       "    <tr>\n",
       "      <th></th>\n",
       "      <th>accuracy</th>\n",
       "      <th>AUC ROC</th>\n",
       "      <th>accuracy</th>\n",
       "      <th>AUC ROC</th>\n",
       "      <th>accuracy</th>\n",
       "      <th>AUC ROC</th>\n",
       "      <th>size</th>\n",
       "      <th>features num</th>\n",
       "      <th>positive class ratio</th>\n",
       "    </tr>\n",
       "    <tr>\n",
       "      <th>Task</th>\n",
       "      <th></th>\n",
       "      <th></th>\n",
       "      <th></th>\n",
       "      <th></th>\n",
       "      <th></th>\n",
       "      <th></th>\n",
       "      <th></th>\n",
       "      <th></th>\n",
       "      <th></th>\n",
       "    </tr>\n",
       "  </thead>\n",
       "  <tbody>\n",
       "    <tr>\n",
       "      <th>mushroom</th>\n",
       "      <td>1</td>\n",
       "      <td>1</td>\n",
       "      <td>1</td>\n",
       "      <td>1</td>\n",
       "      <td>1</td>\n",
       "      <td>1</td>\n",
       "      <td>8124</td>\n",
       "      <td>22</td>\n",
       "      <td>0.482029</td>\n",
       "    </tr>\n",
       "    <tr>\n",
       "      <th>pima</th>\n",
       "      <td>0.786458</td>\n",
       "      <td>0.759721</td>\n",
       "      <td>0.75</td>\n",
       "      <td>0.707753</td>\n",
       "      <td>0.783854</td>\n",
       "      <td>0.763386</td>\n",
       "      <td>768</td>\n",
       "      <td>8</td>\n",
       "      <td>0.348958</td>\n",
       "    </tr>\n",
       "    <tr>\n",
       "      <th>breast cancer</th>\n",
       "      <td>0.944444</td>\n",
       "      <td>0.930342</td>\n",
       "      <td>0.950292</td>\n",
       "      <td>0.934929</td>\n",
       "      <td>0.953216</td>\n",
       "      <td>0.9407</td>\n",
       "      <td>683</td>\n",
       "      <td>10</td>\n",
       "      <td>0.349927</td>\n",
       "    </tr>\n",
       "    <tr>\n",
       "      <th>madelon</th>\n",
       "      <td>0.823333</td>\n",
       "      <td>0.823333</td>\n",
       "      <td>0.823333</td>\n",
       "      <td>0.823333</td>\n",
       "      <td>0.818333</td>\n",
       "      <td>0.818333</td>\n",
       "      <td>2600</td>\n",
       "      <td>1000</td>\n",
       "      <td>0.5</td>\n",
       "    </tr>\n",
       "    <tr>\n",
       "      <th>banknote</th>\n",
       "      <td>0.978134</td>\n",
       "      <td>0.977228</td>\n",
       "      <td>0.98688</td>\n",
       "      <td>0.986114</td>\n",
       "      <td>0.98688</td>\n",
       "      <td>0.986857</td>\n",
       "      <td>1372</td>\n",
       "      <td>5</td>\n",
       "      <td>0.444606</td>\n",
       "    </tr>\n",
       "  </tbody>\n",
       "</table>\n",
       "</div>"
      ],
      "text/plain": [
       "                   gini             TPR-FPR             entropy            \\\n",
       "               accuracy   AUC ROC  accuracy   AUC ROC  accuracy   AUC ROC   \n",
       "Task                                                                        \n",
       "mushroom              1         1         1         1         1         1   \n",
       "pima           0.786458  0.759721      0.75  0.707753  0.783854  0.763386   \n",
       "breast cancer  0.944444  0.930342  0.950292  0.934929  0.953216    0.9407   \n",
       "madelon        0.823333  0.823333  0.823333  0.823333  0.818333  0.818333   \n",
       "banknote       0.978134  0.977228   0.98688  0.986114   0.98688  0.986857   \n",
       "\n",
       "              description                                    \n",
       "                     size features num positive class ratio  \n",
       "Task                                                         \n",
       "mushroom             8124           22             0.482029  \n",
       "pima                  768            8             0.348958  \n",
       "breast cancer         683           10             0.349927  \n",
       "madelon              2600         1000                  0.5  \n",
       "banknote             1372            5             0.444606  "
      ]
     },
     "execution_count": 41,
     "metadata": {},
     "output_type": "execute_result"
    }
   ],
   "source": [
    "results"
   ]
  },
  {
   "cell_type": "markdown",
   "metadata": {},
   "source": [
    "Приведённая таблица показывает, что предложенный критерий TPR-FPR на рассмотренных примерах демонстрирует сопоставимое значение качества по AUC ROC с другими рассмотренными критериями, что не сильно мотивирует его отдельно реализовывать в качестве критерия расщепления в узле решающего дерева для максимизации AUC ROC."
   ]
  },
  {
   "cell_type": "code",
   "execution_count": null,
   "metadata": {},
   "outputs": [],
   "source": []
  }
 ],
 "metadata": {
  "kernelspec": {
   "display_name": "Python 3",
   "language": "python",
   "name": "python3"
  },
  "language_info": {
   "codemirror_mode": {
    "name": "ipython",
    "version": 3
   },
   "file_extension": ".py",
   "mimetype": "text/x-python",
   "name": "python",
   "nbconvert_exporter": "python",
   "pygments_lexer": "ipython3",
   "version": "3.5.2"
  }
 },
 "nbformat": 4,
 "nbformat_minor": 2
}
